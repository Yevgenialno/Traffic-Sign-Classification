{
 "cells": [
  {
   "cell_type": "code",
   "execution_count": 1,
   "metadata": {},
   "outputs": [
    {
     "name": "stderr",
     "output_type": "stream",
     "text": [
      "C:\\Users\\tunki\\AppData\\Local\\Packages\\PythonSoftwareFoundation.Python.3.10_qbz5n2kfra8p0\\LocalCache\\local-packages\\Python310\\site-packages\\tqdm\\auto.py:22: TqdmWarning: IProgress not found. Please update jupyter and ipywidgets. See https://ipywidgets.readthedocs.io/en/stable/user_install.html\n",
      "  from .autonotebook import tqdm as notebook_tqdm\n"
     ]
    }
   ],
   "source": [
    "from pathlib import Path\n",
    "import cv2\n",
    "from PIL import Image\n",
    "import random\n",
    "\n",
    "import matplotlib.pyplot as plt\n",
    "import seaborn as sns\n",
    "\n",
    "import pandas as pd\n",
    "import numpy as np\n",
    "\n",
    "import torch\n",
    "import torchvision\n",
    "from torch.utils.data import Dataset, DataLoader\n",
    "from torch.utils.data.sampler import SequentialSampler\n",
    "import tensorflow as tf\n",
    "import tensorflow.keras.layers as tfl"
   ]
  },
  {
   "cell_type": "code",
   "execution_count": 2,
   "metadata": {},
   "outputs": [],
   "source": [
    "device = torch.device('cuda')\n",
    "device=torch.device(device)"
   ]
  },
  {
   "cell_type": "code",
   "execution_count": 3,
   "metadata": {},
   "outputs": [],
   "source": [
    "def collate_fn(batch):\n",
    "    return tuple(zip(*batch))"
   ]
  },
  {
   "cell_type": "code",
   "execution_count": 34,
   "metadata": {},
   "outputs": [],
   "source": [
    "class TrafficData(Dataset):\n",
    "    def __init__(self, df, image_dir, transforms=None):\n",
    "        self.image_ids = df['Path'].unique()\n",
    "        self.df = df\n",
    "        self.image_dir = image_dir\n",
    "        self.transforms = transforms\n",
    "\n",
    "    def __getitem__(self, index, size = [100, 100]):\n",
    "        image_path = self.image_ids[index]\n",
    "        records = self.df[self.df['Path'] == image_path]\n",
    "\n",
    "        #print(f'{self.image_dir}/{image_path}')\n",
    "        image = cv2.imread(f'{self.image_dir}/{image_path}', cv2.IMREAD_COLOR)\n",
    "        image = cv2.cvtColor(image, cv2.COLOR_BGR2RGB)\n",
    "        image = cv2.resize(image, size)\n",
    "        image = image.astype(float) / 255.0\n",
    "\n",
    "        target = records['ClassId'].values\n",
    "\n",
    "        if self.transforms:\n",
    "            image = self.transforms(**image)\n",
    "\n",
    "        return image, target, image_path\n",
    "\n",
    "    def __len__(self) -> int:\n",
    "        return self.image_ids.shape[0]\n",
    "\n",
    "    @staticmethod\n",
    "    def create_dataset(df, dir, transform=None):\n",
    "       dataset = TrafficData(df, dir)\n",
    "       return dataset\n",
    "\n",
    "    @staticmethod \n",
    "    def loader(dataset, batch_size, num_workers=0):\n",
    "       data_loader = DataLoader(\n",
    "          dataset,\n",
    "          batch_size=batch_size,\n",
    "          shuffle=True,\n",
    "          num_workers=num_workers,\n",
    "          collate_fn = collate_fn\n",
    "      )\n",
    "       return data_loader"
   ]
  },
  {
   "cell_type": "code",
   "execution_count": 5,
   "metadata": {},
   "outputs": [],
   "source": [
    "path = Path(\"Data_images\")"
   ]
  },
  {
   "cell_type": "code",
   "execution_count": 6,
   "metadata": {},
   "outputs": [
    {
     "data": {
      "text/html": [
       "<div>\n",
       "<style scoped>\n",
       "    .dataframe tbody tr th:only-of-type {\n",
       "        vertical-align: middle;\n",
       "    }\n",
       "\n",
       "    .dataframe tbody tr th {\n",
       "        vertical-align: top;\n",
       "    }\n",
       "\n",
       "    .dataframe thead th {\n",
       "        text-align: right;\n",
       "    }\n",
       "</style>\n",
       "<table border=\"1\" class=\"dataframe\">\n",
       "  <thead>\n",
       "    <tr style=\"text-align: right;\">\n",
       "      <th></th>\n",
       "      <th>ClassId</th>\n",
       "      <th>Path</th>\n",
       "    </tr>\n",
       "  </thead>\n",
       "  <tbody>\n",
       "    <tr>\n",
       "      <th>0</th>\n",
       "      <td>0</td>\n",
       "      <td>Train\\0\\00000_00000_00000.png</td>\n",
       "    </tr>\n",
       "    <tr>\n",
       "      <th>1</th>\n",
       "      <td>0</td>\n",
       "      <td>Train\\0\\00000_00000_00001.png</td>\n",
       "    </tr>\n",
       "    <tr>\n",
       "      <th>2</th>\n",
       "      <td>0</td>\n",
       "      <td>Train\\0\\00000_00000_00002.png</td>\n",
       "    </tr>\n",
       "    <tr>\n",
       "      <th>3</th>\n",
       "      <td>0</td>\n",
       "      <td>Train\\0\\00000_00000_00003.png</td>\n",
       "    </tr>\n",
       "    <tr>\n",
       "      <th>4</th>\n",
       "      <td>0</td>\n",
       "      <td>Train\\0\\00000_00000_00004.png</td>\n",
       "    </tr>\n",
       "  </tbody>\n",
       "</table>\n",
       "</div>"
      ],
      "text/plain": [
       "  ClassId                           Path\n",
       "0       0  Train\\0\\00000_00000_00000.png\n",
       "1       0  Train\\0\\00000_00000_00001.png\n",
       "2       0  Train\\0\\00000_00000_00002.png\n",
       "3       0  Train\\0\\00000_00000_00003.png\n",
       "4       0  Train\\0\\00000_00000_00004.png"
      ]
     },
     "execution_count": 6,
     "metadata": {},
     "output_type": "execute_result"
    }
   ],
   "source": [
    "#6 minutes\n",
    "df_train = pd.DataFrame(columns=['ClassId', 'Path'])\n",
    "\n",
    "train_path = path / 'Train'\n",
    "for folder in train_path.glob(\"*\"):\n",
    "    #print(folder)\n",
    "    class_id = int(str(folder)[len(str(train_path)) + 1:])\n",
    "    for im in folder.glob(\"*\"):\n",
    "        #print(p)\n",
    "        df_train = pd.concat([df_train, pd.DataFrame({'ClassId': [class_id], 'Path': [str(im)[len(str(path)) + 1:]]})], ignore_index=True)\n",
    "        #df_train.loc[df_train.shape[0]] = [class_id, str(im)[len(str(path)) + 1:]]\n",
    "\n",
    "df_train.to_csv(\"Data_images/Train_data.csv\")\n",
    "df_train.head()"
   ]
  },
  {
   "cell_type": "code",
   "execution_count": 25,
   "metadata": {},
   "outputs": [
    {
     "data": {
      "text/html": [
       "<div>\n",
       "<style scoped>\n",
       "    .dataframe tbody tr th:only-of-type {\n",
       "        vertical-align: middle;\n",
       "    }\n",
       "\n",
       "    .dataframe tbody tr th {\n",
       "        vertical-align: top;\n",
       "    }\n",
       "\n",
       "    .dataframe thead th {\n",
       "        text-align: right;\n",
       "    }\n",
       "</style>\n",
       "<table border=\"1\" class=\"dataframe\">\n",
       "  <thead>\n",
       "    <tr style=\"text-align: right;\">\n",
       "      <th></th>\n",
       "      <th>ClassId</th>\n",
       "      <th>Path</th>\n",
       "    </tr>\n",
       "  </thead>\n",
       "  <tbody>\n",
       "    <tr>\n",
       "      <th>25765</th>\n",
       "      <td>26</td>\n",
       "      <td>Test/10502.png</td>\n",
       "    </tr>\n",
       "    <tr>\n",
       "      <th>36323</th>\n",
       "      <td>2</td>\n",
       "      <td>Test/10503.png</td>\n",
       "    </tr>\n",
       "    <tr>\n",
       "      <th>27651</th>\n",
       "      <td>9</td>\n",
       "      <td>Test/10504.png</td>\n",
       "    </tr>\n",
       "    <tr>\n",
       "      <th>12439</th>\n",
       "      <td>3</td>\n",
       "      <td>Test/10505.png</td>\n",
       "    </tr>\n",
       "    <tr>\n",
       "      <th>13974</th>\n",
       "      <td>39</td>\n",
       "      <td>Test/10506.png</td>\n",
       "    </tr>\n",
       "  </tbody>\n",
       "</table>\n",
       "</div>"
      ],
      "text/plain": [
       "      ClassId            Path\n",
       "25765      26  Test/10502.png\n",
       "36323       2  Test/10503.png\n",
       "27651       9  Test/10504.png\n",
       "12439       3  Test/10505.png\n",
       "13974      39  Test/10506.png"
      ]
     },
     "execution_count": 25,
     "metadata": {},
     "output_type": "execute_result"
    }
   ],
   "source": [
    "#from random import shuffle\n",
    "\n",
    "df_test_messy = pd.read_csv('Data_Images/Test_data.csv')\n",
    "df_test = pd.DataFrame(columns=['ClassId', 'Path'])\n",
    "\n",
    "test_path = path / 'Test'\n",
    "for pic in test_path.glob(\"*\"):\n",
    "    name = str(pic)[len(str(test_path)) + 1:]\n",
    "    row = df_test_messy[df_test_messy['Path'] == f'Test/{name}']\n",
    "    df_test = pd.concat([df_test, row])\n",
    "\n",
    "df_test.to_csv(\"Test_data_cleaned.csv\")\n",
    "df_test.head()"
   ]
  },
  {
   "cell_type": "code",
   "execution_count": 26,
   "metadata": {},
   "outputs": [
    {
     "name": "stdout",
     "output_type": "stream",
     "text": [
      "53453\n",
      "41692\n"
     ]
    }
   ],
   "source": [
    "print(df_test_messy.shape[0])\n",
    "print(df_test.shape[0])"
   ]
  },
  {
   "cell_type": "code",
   "execution_count": 35,
   "metadata": {},
   "outputs": [],
   "source": [
    "train_data = TrafficData.create_dataset(df_train, path)\n",
    "train_data_loader = TrafficData.loader(train_data, 16)\n",
    "\n",
    "test_data = TrafficData.create_dataset(df_test, path)\n",
    "test_data_loader = TrafficData.loader(test_data, 16)"
   ]
  },
  {
   "cell_type": "code",
   "execution_count": 36,
   "metadata": {},
   "outputs": [],
   "source": [
    "images, targets, image_ids = next(iter(test_data_loader))"
   ]
  }
 ],
 "metadata": {
  "kernelspec": {
   "display_name": "Python 3.10.6 64-bit (windows store)",
   "language": "python",
   "name": "python3"
  },
  "language_info": {
   "codemirror_mode": {
    "name": "ipython",
    "version": 3
   },
   "file_extension": ".py",
   "mimetype": "text/x-python",
   "name": "python",
   "nbconvert_exporter": "python",
   "pygments_lexer": "ipython3",
   "version": "3.10.6"
  },
  "orig_nbformat": 4,
  "vscode": {
   "interpreter": {
    "hash": "8b9a10f91656d93d98ba8a913a134673a413a7bd9c9d8b98cc27e7c892521bfd"
   }
  }
 },
 "nbformat": 4,
 "nbformat_minor": 2
}
